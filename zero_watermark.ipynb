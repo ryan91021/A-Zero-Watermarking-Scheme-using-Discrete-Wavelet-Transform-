{
 "cells": [
  {
   "cell_type": "code",
   "execution_count": 1,
   "id": "859c335d-1298-4bff-9728-c861f978b8aa",
   "metadata": {
    "tags": []
   },
   "outputs": [],
   "source": [
    "import cv2\n",
    "import random\n",
    "import numpy as np\n",
    "import pywt\n",
    "import matplotlib.pyplot as plt"
   ]
  },
  {
   "cell_type": "code",
   "execution_count": 2,
   "id": "3623cd79-e64d-4e0a-8a2a-b3b24d5a3071",
   "metadata": {},
   "outputs": [],
   "source": [
    "def create_overlapping_blocks (image, height_o, width_o) :\n",
    "    \n",
    "    overlapping_blocks = np.zeros((height_o * width_o, 8, 8) , np.uint8)\n",
    "    block_index = 0\n",
    "    \n",
    "    for y in range (height_o):\n",
    "        for x in range (width_o):\n",
    "      \n",
    "            block = image [y : y+8, x : x+8]\n",
    "            overlapping_blocks[block_index] = block\n",
    "            block_index += 1\n",
    "    \n",
    "    return overlapping_blocks"
   ]
  },
  {
   "cell_type": "code",
   "execution_count": 3,
   "id": "a841828c-ffa4-4f3c-b694-1ac545a7b667",
   "metadata": {
    "tags": []
   },
   "outputs": [],
   "source": [
    "def get_DWT_LL(overlapping_blocks, height_o, width_o):\n",
    "    \n",
    "    LL = np.zeros(( height_o * width_o, 4, 4 ), dtype = np.float_)\n",
    "    \n",
    "    for i in range (height_o * width_o):\n",
    "        \n",
    "        LL[i] ,(LH, HL, HH)= pywt.dwt2(overlapping_blocks[i], \"haar\")\n",
    "    \n",
    "    return LL\n"
   ]
  },
  {
   "cell_type": "code",
   "execution_count": 4,
   "id": "c31aeab2-a97e-4ff1-8fa1-38c70360d981",
   "metadata": {},
   "outputs": [],
   "source": [
    "def get_singular(LL, height_o, width_o):\n",
    "    \n",
    "    singular = np.zeros((height_o * width_o), dtype = np.float_)\n",
    "    \n",
    "    for i in range (height_o * width_o):\n",
    "        U, S, VT = np.linalg.svd(LL[i])\n",
    "        singular[i] = S[0]\n",
    "    \n",
    "    return singular"
   ]
  },
  {
   "cell_type": "code",
   "execution_count": 5,
   "id": "0502ea5e-258f-4518-96ed-1a0414a9f3e9",
   "metadata": {},
   "outputs": [],
   "source": [
    "def create_key(height_o, width_o):\n",
    "    \n",
    "    key = np.zeros((height_o, width_o, 2), np.uint32)\n",
    "    key = np.random.randint(0, height_o * width_o, size = key.shape)\n",
    "    return key"
   ]
  },
  {
   "cell_type": "code",
   "execution_count": 6,
   "id": "136ba9be-ae4b-4860-9cc5-a2d10868f54d",
   "metadata": {},
   "outputs": [],
   "source": [
    "def create_master_share(key, singular, height_o, width_o):\n",
    "    \n",
    "    master_share = np.zeros((height_o, width_o), dtype = np.uint8)\n",
    "    \n",
    "    for y in range (height_o) :\n",
    "        for x in range (width_o) :\n",
    "\n",
    "            key_1, key_2 = key[y][x][0], key[y][x][1]\n",
    "            if (singular[key_1] - singular[key_2]) > 0 :\n",
    "                master_share[y][x] = 0 \n",
    "            else :\n",
    "                master_share[y][x] = 1\n",
    "    \n",
    "    return master_share"
   ]
  },
  {
   "cell_type": "code",
   "execution_count": 7,
   "id": "ea4844f3-3436-4ca5-8e36-e5a7b70535de",
   "metadata": {
    "tags": []
   },
   "outputs": [],
   "source": [
    "def create_binary_watermark(watermark, height_watermark, width_watermark):\n",
    "    \n",
    "    for y in range(height_watermark):\n",
    "        for x in range (width_watermark):\n",
    "            if watermark[y][x] > 127:\n",
    "                watermark[y][x] = 1\n",
    "            else :\n",
    "                watermark[y][x] = 0\n",
    "    return watermark"
   ]
  },
  {
   "cell_type": "code",
   "execution_count": 8,
   "id": "ed7e6914-a731-4f02-94b8-cebf519df462",
   "metadata": {
    "tags": []
   },
   "outputs": [],
   "source": [
    "def xor_augmented_watermark(watermark, height_o, width_o, height_watermark, width_watermark):\n",
    "    \n",
    "    augmented_watermark = np.zeros((height_o, width_o), dtype = np.uint8)\n",
    "    augmented_watermark[: height_watermark , : width_watermark] = watermark\n",
    "\n",
    "    return augmented_watermark"
   ]
  },
  {
   "cell_type": "code",
   "execution_count": 9,
   "id": "3d4fbc4a-38b5-47d9-aec5-736fc094c711",
   "metadata": {
    "tags": []
   },
   "outputs": [],
   "source": [
    "def create_ownership(augmented_watermark, master_share):\n",
    "    \n",
    "    ownership = cv2.bitwise_xor(augmented_watermark, master_share)\n",
    "    return ownership\n",
    "    "
   ]
  },
  {
   "cell_type": "code",
   "execution_count": 10,
   "id": "ac1cd8cd-f3fe-45e5-9187-4000eacfcad9",
   "metadata": {
    "tags": []
   },
   "outputs": [],
   "source": [
    "def undo_watermark(ownership, master_share, height_watermark, width_watermark):\n",
    "    \n",
    "    undo_watermark = cv2.bitwise_xor(ownership, master_share)\n",
    "    reduce_undo_watermark = np.zeros((height_watermark, width_watermark), dtype = np.uint8)\n",
    "    reduce_undo_watermark = undo_watermark [: height_watermark , : width_watermark]\n",
    "\n",
    "    for y in range(reduce_undo_watermark.shape[0]):\n",
    "        for x in range(reduce_undo_watermark.shape[1]):\n",
    "            if reduce_undo_watermark[y][x] == 1:\n",
    "                reduce_undo_watermark[y][x] = 255\n",
    "    \n",
    "    return reduce_undo_watermark\n"
   ]
  },
  {
   "cell_type": "code",
   "execution_count": 11,
   "id": "0cb832c6-3655-4c01-bf06-43092bc2e6c3",
   "metadata": {
    "tags": []
   },
   "outputs": [],
   "source": [
    "def add_gaussian_noise(image, mean = 0, std_dev = 25):\n",
    "   \n",
    "    noise = np.random.normal(mean, std_dev, image.shape).astype(np.uint8)\n",
    "    noisy_image = cv2.add(image, noise, dtype = cv2.CV_8U)\n",
    "    \n",
    "    return noisy_image\n"
   ]
  },
  {
   "cell_type": "code",
   "execution_count": 12,
   "id": "dad29517-a00a-47f4-9080-cd343c50c7b2",
   "metadata": {
    "tags": []
   },
   "outputs": [],
   "source": [
    "def motion_image(image, height, width):\n",
    "    \n",
    "    dx, dy = 5, 5\n",
    "    \n",
    "    transformation_matrix = np.float32([[1, 0, dx], [0, 1, dy]])\n",
    "\n",
    "    motion_image = cv2.warpAffine(image, transformation_matrix, (image.shape[1], image.shape[0]))\n",
    "\n",
    "    return motion_image"
   ]
  },
  {
   "cell_type": "code",
   "execution_count": 13,
   "id": "194b232f-b8e9-41c2-886f-e7dd553248fc",
   "metadata": {
    "tags": []
   },
   "outputs": [],
   "source": [
    "def resize_image(image, height, width):\n",
    "\n",
    "    resized_image = cv2.resize(image, ( width // 2, height // 2))\n",
    "    return resized_image\n",
    "   "
   ]
  },
  {
   "cell_type": "code",
   "execution_count": 14,
   "id": "6b58f978-8df1-4f00-a57d-c0f40c01f4d8",
   "metadata": {
    "tags": []
   },
   "outputs": [],
   "source": [
    "def bmp_to_jpeg(image_bmp):\n",
    "   \n",
    "    image_jpeg  = 'image_JPEG.jpg'\n",
    "\n",
    "    cv2.imwrite(image_jpeg, image_bmp, [int(cv2.IMWRITE_JPEG_QUALITY), 10])\n",
    "    image = cv2.imread(image_jpeg, 0)\n",
    "    return  image"
   ]
  },
  {
   "cell_type": "code",
   "execution_count": 15,
   "id": "da661c60-cb54-4a0d-82e5-d1b19325a756",
   "metadata": {
    "tags": []
   },
   "outputs": [],
   "source": [
    "def rotated_image(image, height, width):\n",
    "    \n",
    "  \n",
    "    angle = 1\n",
    "\n",
    "    rotation_matrix = cv2.getRotationMatrix2D((width / 2, height / 2), angle, 1)\n",
    "\n",
    "    rotated_image = cv2.warpAffine(image, rotation_matrix, (width, height))\n",
    "\n",
    "    return rotated_image"
   ]
  },
  {
   "cell_type": "code",
   "execution_count": 16,
   "id": "0616ce93-14c7-4dac-b1e8-1b3437546e91",
   "metadata": {},
   "outputs": [],
   "source": [
    "image = cv2.imread(\"lena.bmp\", 0)\n",
    "height, width = image.shape\n",
    "watermark = cv2.imread(\"letterA.bmp\",0)\n",
    "height_watermark, width_watermark = watermark.shape\n",
    "watermark = create_binary_watermark(watermark, height_watermark, width_watermark)\n",
    "height_o, width_o = height - 7, width - 7 # overlapping height and width\n",
    "key = create_key(height_o, width_o)\n"
   ]
  },
  {
   "cell_type": "code",
   "execution_count": 17,
   "id": "6f72257e-08fb-4531-b03c-a519d1061f9d",
   "metadata": {
    "tags": []
   },
   "outputs": [
    {
     "name": "stdout",
     "output_type": "stream",
     "text": [
      "[[0 0 0 ... 0 0 0]\n",
      " [1 1 1 ... 1 1 1]\n",
      " [0 1 0 ... 1 0 1]\n",
      " ...\n",
      " [0 0 1 ... 1 0 1]\n",
      " [0 0 0 ... 1 1 1]\n",
      " [1 1 0 ... 1 0 0]]\n"
     ]
    },
    {
     "data": {
      "text/plain": [
       "True"
      ]
     },
     "execution_count": 17,
     "metadata": {},
     "output_type": "execute_result"
    }
   ],
   "source": [
    "\n",
    "overlapping_blocks = create_overlapping_blocks(image, height_o, width_o)\n",
    "LL = get_DWT_LL(overlapping_blocks, height_o, width_o)\n",
    "singular = get_singular(LL, height_o, width_o)\n",
    "master_share = create_master_share(key,singular, height_o, width_o)\n",
    "augmented_watermark = xor_augmented_watermark(watermark, height_o, width_o, height_watermark, width_watermark)\n",
    "ownership = create_ownership(augmented_watermark, master_share)\n",
    "\n",
    "print(ownership)\n",
    "cv2.imwrite(\"ownership.bmp\",ownership)"
   ]
  },
  {
   "cell_type": "code",
   "execution_count": 18,
   "id": "22a7591f-3c5e-4a14-bb2b-20636550320b",
   "metadata": {
    "tags": []
   },
   "outputs": [
    {
     "name": "stdout",
     "output_type": "stream",
     "text": [
      "[[255 255 255 ... 255 255 255]\n",
      " [255 255 255 ... 255 255 255]\n",
      " [255 255 255 ... 255 255 255]\n",
      " ...\n",
      " [255 255 255 ... 255 255 255]\n",
      " [255 255 255 ... 255 255 255]\n",
      " [255 255 255 ... 255 255 255]]\n"
     ]
    }
   ],
   "source": [
    "reduce_undo_watermark = undo_watermark(ownership, master_share, height_watermark, width_watermark)\n",
    "cv2.imwrite(\"reduce_undo_watermark.bmp\",reduce_undo_watermark)\n",
    "print(reduce_undo_watermark)"
   ]
  },
  {
   "cell_type": "code",
   "execution_count": 19,
   "id": "13acbd96-7c32-4c77-ae0c-978625a785da",
   "metadata": {
    "tags": []
   },
   "outputs": [
    {
     "name": "stdout",
     "output_type": "stream",
     "text": [
      "original watermark and undo watermark ber :  0.0\n"
     ]
    }
   ],
   "source": [
    "\n",
    "reduce_undo_binary_watermark =  create_binary_watermark(reduce_undo_watermark, height_watermark, width_watermark)\n",
    "diff = cv2.absdiff(watermark, reduce_undo_binary_watermark)\n",
    "\n",
    "num_errors = cv2.countNonZero(diff)\n",
    "total_pixels = height_watermark * width_watermark # Total number of pixels\n",
    "ber = num_errors / total_pixels\n",
    "print(\"original watermark and undo watermark ber : \" ,ber)\n"
   ]
  },
  {
   "cell_type": "code",
   "execution_count": 20,
   "id": "c504482f-75fc-4af4-a802-1aef89a39fda",
   "metadata": {},
   "outputs": [
    {
     "name": "stdout",
     "output_type": "stream",
     "text": [
      "[[255 255 255 ... 255 255 255]\n",
      " [255 255 255 ... 255 255 255]\n",
      " [255 255   0 ... 255   0 255]\n",
      " ...\n",
      " [255 255 255 ... 255 255 255]\n",
      " [  0 255 255 ... 255 255 255]\n",
      " [255 255 255 ... 255 255 255]]\n"
     ]
    }
   ],
   "source": [
    "image_noisy = add_gaussian_noise(image)\n",
    "cv2.imwrite(\"image_noisy.bmp\", image_noisy)\n",
    "\n",
    "height_noisy, width_noisy = image_noisy.shape\n",
    "height_noisy_o, width_noisy_o = height_noisy - 7, width_noisy - 7 # overlapping height and width\n",
    "\n",
    "overlapping_blocks_noisy = create_overlapping_blocks(image_noisy, height_noisy_o, width_noisy_o)\n",
    "LL_noisy = get_DWT_LL(overlapping_blocks_noisy, height_noisy_o, width_noisy_o)\n",
    "singular_noisy = get_singular(LL_noisy, height_noisy_o, width_noisy_o)\n",
    "\n",
    "master_share_noisy = create_master_share(key, singular_noisy, height_noisy_o, width_noisy_o)\n",
    "reduce_undo_watermark_noisy = undo_watermark(ownership, master_share_noisy, height_watermark, width_watermark)\n",
    "cv2.imwrite(\"reduce_undo_watermark_noisy.bmp\",reduce_undo_watermark_noisy)\n",
    "print(reduce_undo_watermark_noisy)"
   ]
  },
  {
   "cell_type": "code",
   "execution_count": 21,
   "id": "2e5e759e-ae9c-4420-82cc-9d97ba940842",
   "metadata": {
    "tags": []
   },
   "outputs": [
    {
     "name": "stdout",
     "output_type": "stream",
     "text": [
      "original watermark and undo noisy watermark ber :  0.09552001953125\n"
     ]
    }
   ],
   "source": [
    "reduce_undo_binary_watermark_noisy =  create_binary_watermark(reduce_undo_watermark_noisy, height_watermark, width_watermark)\n",
    "diff = cv2.absdiff(watermark, reduce_undo_binary_watermark_noisy)\n",
    "\n",
    "num_errors = cv2.countNonZero(diff)\n",
    "total_pixels = height_watermark * width_watermark # Total number of pixels\n",
    "ber = num_errors / total_pixels\n",
    "print(\"original watermark and undo noisy watermark ber : \" ,ber)"
   ]
  },
  {
   "cell_type": "code",
   "execution_count": 22,
   "id": "f0ddf4f2-68d5-486b-b0a3-4556dc72e78f",
   "metadata": {
    "tags": []
   },
   "outputs": [
    {
     "name": "stdout",
     "output_type": "stream",
     "text": [
      "[[255 255 255 ... 255 255 255]\n",
      " [255 255 255 ... 255 255 255]\n",
      " [255 255   0 ... 255 255 255]\n",
      " ...\n",
      " [255   0 255 ... 255 255 255]\n",
      " [  0 255 255 ... 255 255 255]\n",
      " [255   0 255 ... 255 255 255]]\n"
     ]
    }
   ],
   "source": [
    "image_motion = motion_image(image, height, width)\n",
    "cv2.imwrite(\"image_motion.bmp\", image_motion)\n",
    "\n",
    "\n",
    "height_motion, width_motion = image_motion.shape\n",
    "height_motion_o, width_motion_o = height_motion - 7, width_motion - 7 # overlapping height and width\n",
    "\n",
    "overlapping_blocks_motion = create_overlapping_blocks(image_motion, height_motion_o, width_motion_o)\n",
    "LL_motion = get_DWT_LL(overlapping_blocks_motion, height_motion_o, width_motion_o)\n",
    "singular_motion = get_singular(LL_motion, height_motion_o, width_motion_o)\n",
    "\n",
    "master_share_motion = create_master_share(key, singular_motion, height_motion_o, width_motion_o)\n",
    "reduce_undo_watermark_motion = undo_watermark(ownership, master_share_motion, height_watermark, width_watermark)\n",
    "cv2.imwrite(\"reduce_undo_watermark_motion.bmp\",reduce_undo_watermark_motion)\n",
    "print(reduce_undo_watermark_motion)"
   ]
  },
  {
   "cell_type": "code",
   "execution_count": 23,
   "id": "6f76469e-96db-4baa-947e-1de00bae136f",
   "metadata": {
    "tags": []
   },
   "outputs": [
    {
     "name": "stdout",
     "output_type": "stream",
     "text": [
      "original watermark and undo motion watermark ber :  0.14373779296875\n"
     ]
    }
   ],
   "source": [
    "reduce_undo_binary_watermark_motion =  create_binary_watermark(reduce_undo_watermark_motion, height_watermark, width_watermark)\n",
    "diff = cv2.absdiff(watermark, reduce_undo_binary_watermark_motion)\n",
    "\n",
    "num_errors = cv2.countNonZero(diff)\n",
    "total_pixels = height_watermark * width_watermark # Total number of pixels\n",
    "ber = num_errors / total_pixels\n",
    "print(\"original watermark and undo motion watermark ber : \" ,ber)"
   ]
  },
  {
   "cell_type": "code",
   "execution_count": 24,
   "id": "248c524b-55e2-428e-8114-7817f2148db1",
   "metadata": {
    "tags": []
   },
   "outputs": [
    {
     "name": "stdout",
     "output_type": "stream",
     "text": [
      "[[255 255 255 ... 255 255 255]\n",
      " [255 255 255 ... 255 255 255]\n",
      " [255 255 255 ... 255 255 255]\n",
      " ...\n",
      " [255 255 255 ... 255 255 255]\n",
      " [255 255 255 ... 255 255 255]\n",
      " [255 255 255 ... 255 255 255]]\n"
     ]
    }
   ],
   "source": [
    "image_resized_small = resize_image(image, height, width)\n",
    "cv2.imwrite(\"image_resized.bmp\", image_resized_small)\n",
    "image_resized = cv2.resize(image_resized_small, (width, height), interpolation=cv2.INTER_CUBIC)\n",
    "\n",
    "height_resized, width_resized = image_resized.shape\n",
    "height_resized_o, width_resized_o = height_resized - 7, width_resized - 7 # overlapping height and width\n",
    "\n",
    "overlapping_blocks_resized = create_overlapping_blocks(image_resized, height_resized_o, width_resized_o)\n",
    "LL_resized = get_DWT_LL(overlapping_blocks_resized, height_resized_o, width_resized_o)\n",
    "singular_resized = get_singular(LL_resized, height_resized_o, width_resized_o)\n",
    "\n",
    "master_share_resized = create_master_share(key, singular_resized, height_resized_o, width_resized_o)\n",
    "reduce_undo_watermark_resized = undo_watermark(ownership, master_share_resized, height_watermark, width_watermark)\n",
    "cv2.imwrite(\"reduce_undo_watermark_resized.bmp\",reduce_undo_watermark_resized)\n",
    "print(reduce_undo_watermark_resized)"
   ]
  },
  {
   "cell_type": "code",
   "execution_count": 25,
   "id": "8571d42f-1826-40f8-9ab9-d371182d8cd9",
   "metadata": {
    "tags": []
   },
   "outputs": [
    {
     "name": "stdout",
     "output_type": "stream",
     "text": [
      "original watermark and undo resized watermark ber :  0.00250244140625\n"
     ]
    }
   ],
   "source": [
    "reduce_undo_binary_watermark_resized =  create_binary_watermark(reduce_undo_watermark_resized, height_watermark, width_watermark)\n",
    "diff = cv2.absdiff(watermark, reduce_undo_binary_watermark_resized)\n",
    "\n",
    "num_errors = cv2.countNonZero(diff)\n",
    "total_pixels = height_watermark * width_watermark # Total number of pixels\n",
    "ber = num_errors / total_pixels\n",
    "print(\"original watermark and undo resized watermark ber : \" ,ber)"
   ]
  },
  {
   "cell_type": "code",
   "execution_count": 26,
   "id": "c4bdfba1-d988-4c16-9a8d-ecc43557064f",
   "metadata": {
    "tags": []
   },
   "outputs": [
    {
     "name": "stdout",
     "output_type": "stream",
     "text": [
      "[[255 255 255 ... 255 255 255]\n",
      " [255 255 255 ... 255 255 255]\n",
      " [255 255 255 ... 255 255 255]\n",
      " ...\n",
      " [255 255 255 ... 255 255 255]\n",
      " [255 255 255 ... 255 255 255]\n",
      " [255 255 255 ... 255 255 255]]\n"
     ]
    }
   ],
   "source": [
    "image_jpeg = bmp_to_jpeg(image)\n",
    "cv2.imwrite(\"image_jpeg.jpeg\", image_jpeg)\n",
    "\n",
    "\n",
    "height_jpeg, width_jpeg = image_jpeg.shape\n",
    "height_jpeg_o, width_jpeg_o = height_jpeg - 7, width_jpeg - 7 # overlapping height and width\n",
    "\n",
    "overlapping_blocks_jpeg = create_overlapping_blocks(image_jpeg, height_jpeg_o, width_jpeg_o)\n",
    "LL_jpeg = get_DWT_LL(overlapping_blocks_jpeg, height_jpeg_o, width_jpeg_o)\n",
    "singular_jpeg = get_singular(LL_jpeg, height_jpeg_o, width_jpeg_o)\n",
    "\n",
    "master_share_jpeg = create_master_share(key, singular_jpeg, height_jpeg_o, width_jpeg_o)\n",
    "reduce_undo_watermark_jpeg= undo_watermark(ownership, master_share_jpeg, height_watermark, width_watermark)\n",
    "cv2.imwrite(\"reduce_undo_watermark_jpeg.bmp\",reduce_undo_watermark_jpeg)\n",
    "print(reduce_undo_watermark_jpeg)"
   ]
  },
  {
   "cell_type": "code",
   "execution_count": 27,
   "id": "aa7ee43a-0a8a-4943-80e1-fbb9052ce4e6",
   "metadata": {
    "tags": []
   },
   "outputs": [
    {
     "name": "stdout",
     "output_type": "stream",
     "text": [
      "original watermark and undo jpeg watermark ber :  0.01580810546875\n"
     ]
    }
   ],
   "source": [
    "reduce_undo_binary_watermark_jpeg =  create_binary_watermark(reduce_undo_watermark_jpeg, height_watermark, width_watermark)\n",
    "diff = cv2.absdiff(watermark, reduce_undo_binary_watermark_jpeg)\n",
    "\n",
    "num_errors = cv2.countNonZero(diff)\n",
    "total_pixels = height_watermark * width_watermark # Total number of pixels\n",
    "ber = num_errors / total_pixels\n",
    "print(\"original watermark and undo jpeg watermark ber : \" ,ber)"
   ]
  },
  {
   "cell_type": "code",
   "execution_count": 28,
   "id": "8d8ada91-cbe0-4e27-aba3-6765e0caca61",
   "metadata": {
    "tags": []
   },
   "outputs": [
    {
     "name": "stdout",
     "output_type": "stream",
     "text": [
      "[[255 255 255 ... 255 255 255]\n",
      " [255 255 255 ... 255   0 255]\n",
      " [  0 255 255 ... 255 255 255]\n",
      " ...\n",
      " [255 255 255 ... 255 255 255]\n",
      " [255 255 255 ... 255 255 255]\n",
      " [255   0 255 ... 255 255 255]]\n"
     ]
    }
   ],
   "source": [
    "image_rotated = rotated_image (image, height, width)\n",
    "cv2.imwrite(\"Image_rotated.bmp\", image_rotated)\n",
    "\n",
    "height_rotated, width_rotated = image_rotated.shape\n",
    "height_rotated_o, width_rotated_o = height_rotated - 7, width_rotated - 7 # overlapping height and width\n",
    "\n",
    "overlapping_blocks_rotated = create_overlapping_blocks(image_rotated, height_rotated_o, width_rotated_o)\n",
    "LL_rotated = get_DWT_LL(overlapping_blocks_rotated, height_rotated_o, width_rotated_o)\n",
    "singular_rotated = get_singular(LL_rotated, height_rotated_o, width_rotated_o)\n",
    "\n",
    "master_share_rotated = create_master_share(key, singular_rotated, height_rotated_o, width_rotated_o)\n",
    "reduce_undo_watermark_rotated= undo_watermark(ownership, master_share_rotated, height_watermark, width_watermark)\n",
    "cv2.imwrite(\"reduce_undo_watermark_rotated.bmp\",reduce_undo_watermark_rotated)\n",
    "print(reduce_undo_watermark_rotated)"
   ]
  },
  {
   "cell_type": "code",
   "execution_count": 29,
   "id": "ad1f2f06-8a3c-48a1-a109-f2cf77b0b1d6",
   "metadata": {
    "tags": []
   },
   "outputs": [
    {
     "name": "stdout",
     "output_type": "stream",
     "text": [
      "original watermark and undo rotated watermark ber :  0.0589599609375\n"
     ]
    }
   ],
   "source": [
    "reduce_undo_binary_watermark_rotated = create_binary_watermark(reduce_undo_watermark_rotated, height_watermark, width_watermark)\n",
    "diff = cv2.absdiff(watermark, reduce_undo_binary_watermark_rotated)\n",
    "\n",
    "num_errors = cv2.countNonZero(diff)\n",
    "total_pixels = height_watermark * width_watermark # Total number of pixels\n",
    "ber = num_errors / total_pixels\n",
    "print(\"original watermark and undo rotated watermark ber : \" ,ber)"
   ]
  },
  {
   "cell_type": "code",
   "execution_count": null,
   "id": "190a3f24-055a-44f4-b11a-1f83c19cf21d",
   "metadata": {},
   "outputs": [],
   "source": []
  }
 ],
 "metadata": {
  "kernelspec": {
   "display_name": "Python 3 (ipykernel)",
   "language": "python",
   "name": "python3"
  },
  "language_info": {
   "codemirror_mode": {
    "name": "ipython",
    "version": 3
   },
   "file_extension": ".py",
   "mimetype": "text/x-python",
   "name": "python",
   "nbconvert_exporter": "python",
   "pygments_lexer": "ipython3",
   "version": "3.10.9"
  }
 },
 "nbformat": 4,
 "nbformat_minor": 5
}
